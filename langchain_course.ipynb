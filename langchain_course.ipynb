{
 "cells": [
  {
   "cell_type": "code",
   "execution_count": 37,
   "metadata": {},
   "outputs": [
    {
     "name": "stdout",
     "output_type": "stream",
     "text": [
      "Requirement already satisfied: langchain in c:\\users\\salil\\python_n_r\\ineuron\\gen_ai\\env\\lib\\site-packages (from -r requirements.txt (line 1)) (0.1.10)\n",
      "Requirement already satisfied: ipykernel in c:\\users\\salil\\python_n_r\\ineuron\\gen_ai\\env\\lib\\site-packages (from -r requirements.txt (line 2)) (6.29.3)\n",
      "Requirement already satisfied: python-dotenv in c:\\users\\salil\\python_n_r\\ineuron\\gen_ai\\env\\lib\\site-packages (from -r requirements.txt (line 3)) (1.0.1)\n",
      "Requirement already satisfied: openai in c:\\users\\salil\\python_n_r\\ineuron\\gen_ai\\env\\lib\\site-packages (from -r requirements.txt (line 4)) (1.13.3)\n",
      "Collecting huggingface_hub\n",
      "  Downloading huggingface_hub-0.21.3-py3-none-any.whl (346 kB)\n",
      "     ---------------------------------------- 0.0/346.2 kB ? eta -:--:--\n",
      "     -------------------------------------  337.9/346.2 kB 7.0 MB/s eta 0:00:01\n",
      "     -------------------------------------- 346.2/346.2 kB 5.3 MB/s eta 0:00:00\n",
      "Requirement already satisfied: jsonpatch<2.0,>=1.33 in c:\\users\\salil\\python_n_r\\ineuron\\gen_ai\\env\\lib\\site-packages (from langchain->-r requirements.txt (line 1)) (1.33)\n",
      "Requirement already satisfied: dataclasses-json<0.7,>=0.5.7 in c:\\users\\salil\\python_n_r\\ineuron\\gen_ai\\env\\lib\\site-packages (from langchain->-r requirements.txt (line 1)) (0.6.4)\n",
      "Requirement already satisfied: requests<3,>=2 in c:\\users\\salil\\python_n_r\\ineuron\\gen_ai\\env\\lib\\site-packages (from langchain->-r requirements.txt (line 1)) (2.31.0)\n",
      "Requirement already satisfied: pydantic<3,>=1 in c:\\users\\salil\\python_n_r\\ineuron\\gen_ai\\env\\lib\\site-packages (from langchain->-r requirements.txt (line 1)) (2.6.3)\n",
      "Requirement already satisfied: tenacity<9.0.0,>=8.1.0 in c:\\users\\salil\\python_n_r\\ineuron\\gen_ai\\env\\lib\\site-packages (from langchain->-r requirements.txt (line 1)) (8.2.3)\n",
      "Requirement already satisfied: aiohttp<4.0.0,>=3.8.3 in c:\\users\\salil\\python_n_r\\ineuron\\gen_ai\\env\\lib\\site-packages (from langchain->-r requirements.txt (line 1)) (3.9.3)\n",
      "Requirement already satisfied: langchain-text-splitters<0.1,>=0.0.1 in c:\\users\\salil\\python_n_r\\ineuron\\gen_ai\\env\\lib\\site-packages (from langchain->-r requirements.txt (line 1)) (0.0.1)\n",
      "Requirement already satisfied: langsmith<0.2.0,>=0.1.0 in c:\\users\\salil\\python_n_r\\ineuron\\gen_ai\\env\\lib\\site-packages (from langchain->-r requirements.txt (line 1)) (0.1.13)\n",
      "Requirement already satisfied: async-timeout<5.0.0,>=4.0.0 in c:\\users\\salil\\python_n_r\\ineuron\\gen_ai\\env\\lib\\site-packages (from langchain->-r requirements.txt (line 1)) (4.0.3)\n",
      "Requirement already satisfied: numpy<2,>=1 in c:\\users\\salil\\python_n_r\\ineuron\\gen_ai\\env\\lib\\site-packages (from langchain->-r requirements.txt (line 1)) (1.26.4)\n",
      "Requirement already satisfied: langchain-community<0.1,>=0.0.25 in c:\\users\\salil\\python_n_r\\ineuron\\gen_ai\\env\\lib\\site-packages (from langchain->-r requirements.txt (line 1)) (0.0.25)\n",
      "Requirement already satisfied: SQLAlchemy<3,>=1.4 in c:\\users\\salil\\python_n_r\\ineuron\\gen_ai\\env\\lib\\site-packages (from langchain->-r requirements.txt (line 1)) (2.0.27)\n",
      "Requirement already satisfied: PyYAML>=5.3 in c:\\users\\salil\\python_n_r\\ineuron\\gen_ai\\env\\lib\\site-packages (from langchain->-r requirements.txt (line 1)) (6.0.1)\n",
      "Requirement already satisfied: langchain-core<0.2,>=0.1.28 in c:\\users\\salil\\python_n_r\\ineuron\\gen_ai\\env\\lib\\site-packages (from langchain->-r requirements.txt (line 1)) (0.1.28)\n",
      "Requirement already satisfied: debugpy>=1.6.5 in c:\\users\\salil\\python_n_r\\ineuron\\gen_ai\\env\\lib\\site-packages (from ipykernel->-r requirements.txt (line 2)) (1.8.1)\n",
      "Requirement already satisfied: ipython>=7.23.1 in c:\\users\\salil\\python_n_r\\ineuron\\gen_ai\\env\\lib\\site-packages (from ipykernel->-r requirements.txt (line 2)) (8.22.1)\n",
      "Requirement already satisfied: packaging in c:\\users\\salil\\python_n_r\\ineuron\\gen_ai\\env\\lib\\site-packages (from ipykernel->-r requirements.txt (line 2)) (23.2)\n",
      "Requirement already satisfied: nest-asyncio in c:\\users\\salil\\python_n_r\\ineuron\\gen_ai\\env\\lib\\site-packages (from ipykernel->-r requirements.txt (line 2)) (1.6.0)\n",
      "Requirement already satisfied: jupyter-client>=6.1.12 in c:\\users\\salil\\python_n_r\\ineuron\\gen_ai\\env\\lib\\site-packages (from ipykernel->-r requirements.txt (line 2)) (8.6.0)\n",
      "Requirement already satisfied: jupyter-core!=5.0.*,>=4.12 in c:\\users\\salil\\python_n_r\\ineuron\\gen_ai\\env\\lib\\site-packages (from ipykernel->-r requirements.txt (line 2)) (5.7.1)\n",
      "Requirement already satisfied: psutil in c:\\users\\salil\\python_n_r\\ineuron\\gen_ai\\env\\lib\\site-packages (from ipykernel->-r requirements.txt (line 2)) (5.9.8)\n",
      "Requirement already satisfied: pyzmq>=24 in c:\\users\\salil\\python_n_r\\ineuron\\gen_ai\\env\\lib\\site-packages (from ipykernel->-r requirements.txt (line 2)) (25.1.2)\n",
      "Requirement already satisfied: comm>=0.1.1 in c:\\users\\salil\\python_n_r\\ineuron\\gen_ai\\env\\lib\\site-packages (from ipykernel->-r requirements.txt (line 2)) (0.2.1)\n",
      "Requirement already satisfied: matplotlib-inline>=0.1 in c:\\users\\salil\\python_n_r\\ineuron\\gen_ai\\env\\lib\\site-packages (from ipykernel->-r requirements.txt (line 2)) (0.1.6)\n",
      "Requirement already satisfied: tornado>=6.1 in c:\\users\\salil\\python_n_r\\ineuron\\gen_ai\\env\\lib\\site-packages (from ipykernel->-r requirements.txt (line 2)) (6.4)\n",
      "Requirement already satisfied: traitlets>=5.4.0 in c:\\users\\salil\\python_n_r\\ineuron\\gen_ai\\env\\lib\\site-packages (from ipykernel->-r requirements.txt (line 2)) (5.14.1)\n",
      "Requirement already satisfied: tqdm>4 in c:\\users\\salil\\python_n_r\\ineuron\\gen_ai\\env\\lib\\site-packages (from openai->-r requirements.txt (line 4)) (4.66.2)\n",
      "Requirement already satisfied: anyio<5,>=3.5.0 in c:\\users\\salil\\python_n_r\\ineuron\\gen_ai\\env\\lib\\site-packages (from openai->-r requirements.txt (line 4)) (4.3.0)\n",
      "Requirement already satisfied: sniffio in c:\\users\\salil\\python_n_r\\ineuron\\gen_ai\\env\\lib\\site-packages (from openai->-r requirements.txt (line 4)) (1.3.1)\n",
      "Requirement already satisfied: typing-extensions<5,>=4.7 in c:\\users\\salil\\python_n_r\\ineuron\\gen_ai\\env\\lib\\site-packages (from openai->-r requirements.txt (line 4)) (4.10.0)\n",
      "Requirement already satisfied: distro<2,>=1.7.0 in c:\\users\\salil\\python_n_r\\ineuron\\gen_ai\\env\\lib\\site-packages (from openai->-r requirements.txt (line 4)) (1.9.0)\n",
      "Requirement already satisfied: httpx<1,>=0.23.0 in c:\\users\\salil\\python_n_r\\ineuron\\gen_ai\\env\\lib\\site-packages (from openai->-r requirements.txt (line 4)) (0.27.0)\n",
      "Collecting fsspec>=2023.5.0\n",
      "  Downloading fsspec-2024.2.0-py3-none-any.whl (170 kB)\n",
      "     ---------------------------------------- 0.0/170.9 kB ? eta -:--:--\n",
      "     -------------------------------------- 170.9/170.9 kB 5.2 MB/s eta 0:00:00\n",
      "Collecting filelock\n",
      "  Using cached filelock-3.13.1-py3-none-any.whl (11 kB)\n",
      "Requirement already satisfied: multidict<7.0,>=4.5 in c:\\users\\salil\\python_n_r\\ineuron\\gen_ai\\env\\lib\\site-packages (from aiohttp<4.0.0,>=3.8.3->langchain->-r requirements.txt (line 1)) (6.0.5)\n",
      "Requirement already satisfied: attrs>=17.3.0 in c:\\users\\salil\\python_n_r\\ineuron\\gen_ai\\env\\lib\\site-packages (from aiohttp<4.0.0,>=3.8.3->langchain->-r requirements.txt (line 1)) (23.2.0)\n",
      "Requirement already satisfied: aiosignal>=1.1.2 in c:\\users\\salil\\python_n_r\\ineuron\\gen_ai\\env\\lib\\site-packages (from aiohttp<4.0.0,>=3.8.3->langchain->-r requirements.txt (line 1)) (1.3.1)\n",
      "Requirement already satisfied: yarl<2.0,>=1.0 in c:\\users\\salil\\python_n_r\\ineuron\\gen_ai\\env\\lib\\site-packages (from aiohttp<4.0.0,>=3.8.3->langchain->-r requirements.txt (line 1)) (1.9.4)\n",
      "Requirement already satisfied: frozenlist>=1.1.1 in c:\\users\\salil\\python_n_r\\ineuron\\gen_ai\\env\\lib\\site-packages (from aiohttp<4.0.0,>=3.8.3->langchain->-r requirements.txt (line 1)) (1.4.1)\n",
      "Requirement already satisfied: exceptiongroup>=1.0.2 in c:\\users\\salil\\python_n_r\\ineuron\\gen_ai\\env\\lib\\site-packages (from anyio<5,>=3.5.0->openai->-r requirements.txt (line 4)) (1.2.0)\n",
      "Requirement already satisfied: idna>=2.8 in c:\\users\\salil\\python_n_r\\ineuron\\gen_ai\\env\\lib\\site-packages (from anyio<5,>=3.5.0->openai->-r requirements.txt (line 4)) (3.6)\n",
      "Requirement already satisfied: typing-inspect<1,>=0.4.0 in c:\\users\\salil\\python_n_r\\ineuron\\gen_ai\\env\\lib\\site-packages (from dataclasses-json<0.7,>=0.5.7->langchain->-r requirements.txt (line 1)) (0.9.0)\n",
      "Requirement already satisfied: marshmallow<4.0.0,>=3.18.0 in c:\\users\\salil\\python_n_r\\ineuron\\gen_ai\\env\\lib\\site-packages (from dataclasses-json<0.7,>=0.5.7->langchain->-r requirements.txt (line 1)) (3.21.0)\n",
      "Requirement already satisfied: httpcore==1.* in c:\\users\\salil\\python_n_r\\ineuron\\gen_ai\\env\\lib\\site-packages (from httpx<1,>=0.23.0->openai->-r requirements.txt (line 4)) (1.0.4)\n",
      "Requirement already satisfied: certifi in c:\\users\\salil\\python_n_r\\ineuron\\gen_ai\\env\\lib\\site-packages (from httpx<1,>=0.23.0->openai->-r requirements.txt (line 4)) (2024.2.2)\n",
      "Requirement already satisfied: h11<0.15,>=0.13 in c:\\users\\salil\\python_n_r\\ineuron\\gen_ai\\env\\lib\\site-packages (from httpcore==1.*->httpx<1,>=0.23.0->openai->-r requirements.txt (line 4)) (0.14.0)\n",
      "Requirement already satisfied: pygments>=2.4.0 in c:\\users\\salil\\python_n_r\\ineuron\\gen_ai\\env\\lib\\site-packages (from ipython>=7.23.1->ipykernel->-r requirements.txt (line 2)) (2.17.2)\n",
      "Requirement already satisfied: colorama in c:\\users\\salil\\python_n_r\\ineuron\\gen_ai\\env\\lib\\site-packages (from ipython>=7.23.1->ipykernel->-r requirements.txt (line 2)) (0.4.6)\n",
      "Requirement already satisfied: jedi>=0.16 in c:\\users\\salil\\python_n_r\\ineuron\\gen_ai\\env\\lib\\site-packages (from ipython>=7.23.1->ipykernel->-r requirements.txt (line 2)) (0.19.1)\n",
      "Requirement already satisfied: stack-data in c:\\users\\salil\\python_n_r\\ineuron\\gen_ai\\env\\lib\\site-packages (from ipython>=7.23.1->ipykernel->-r requirements.txt (line 2)) (0.6.3)\n",
      "Requirement already satisfied: prompt-toolkit<3.1.0,>=3.0.41 in c:\\users\\salil\\python_n_r\\ineuron\\gen_ai\\env\\lib\\site-packages (from ipython>=7.23.1->ipykernel->-r requirements.txt (line 2)) (3.0.43)\n",
      "Requirement already satisfied: decorator in c:\\users\\salil\\python_n_r\\ineuron\\gen_ai\\env\\lib\\site-packages (from ipython>=7.23.1->ipykernel->-r requirements.txt (line 2)) (5.1.1)\n",
      "Requirement already satisfied: jsonpointer>=1.9 in c:\\users\\salil\\python_n_r\\ineuron\\gen_ai\\env\\lib\\site-packages (from jsonpatch<2.0,>=1.33->langchain->-r requirements.txt (line 1)) (2.4)\n",
      "Requirement already satisfied: python-dateutil>=2.8.2 in c:\\users\\salil\\python_n_r\\ineuron\\gen_ai\\env\\lib\\site-packages (from jupyter-client>=6.1.12->ipykernel->-r requirements.txt (line 2)) (2.9.0.post0)\n",
      "Requirement already satisfied: pywin32>=300 in c:\\users\\salil\\python_n_r\\ineuron\\gen_ai\\env\\lib\\site-packages (from jupyter-core!=5.0.*,>=4.12->ipykernel->-r requirements.txt (line 2)) (306)\n",
      "Requirement already satisfied: platformdirs>=2.5 in c:\\users\\salil\\python_n_r\\ineuron\\gen_ai\\env\\lib\\site-packages (from jupyter-core!=5.0.*,>=4.12->ipykernel->-r requirements.txt (line 2)) (4.2.0)\n",
      "Requirement already satisfied: orjson<4.0.0,>=3.9.14 in c:\\users\\salil\\python_n_r\\ineuron\\gen_ai\\env\\lib\\site-packages (from langsmith<0.2.0,>=0.1.0->langchain->-r requirements.txt (line 1)) (3.9.15)\n",
      "Requirement already satisfied: pydantic-core==2.16.3 in c:\\users\\salil\\python_n_r\\ineuron\\gen_ai\\env\\lib\\site-packages (from pydantic<3,>=1->langchain->-r requirements.txt (line 1)) (2.16.3)\n",
      "Requirement already satisfied: annotated-types>=0.4.0 in c:\\users\\salil\\python_n_r\\ineuron\\gen_ai\\env\\lib\\site-packages (from pydantic<3,>=1->langchain->-r requirements.txt (line 1)) (0.6.0)\n",
      "Requirement already satisfied: charset-normalizer<4,>=2 in c:\\users\\salil\\python_n_r\\ineuron\\gen_ai\\env\\lib\\site-packages (from requests<3,>=2->langchain->-r requirements.txt (line 1)) (3.3.2)\n",
      "Requirement already satisfied: urllib3<3,>=1.21.1 in c:\\users\\salil\\python_n_r\\ineuron\\gen_ai\\env\\lib\\site-packages (from requests<3,>=2->langchain->-r requirements.txt (line 1)) (2.2.1)\n",
      "Requirement already satisfied: greenlet!=0.4.17 in c:\\users\\salil\\python_n_r\\ineuron\\gen_ai\\env\\lib\\site-packages (from SQLAlchemy<3,>=1.4->langchain->-r requirements.txt (line 1)) (3.0.3)\n",
      "Requirement already satisfied: parso<0.9.0,>=0.8.3 in c:\\users\\salil\\python_n_r\\ineuron\\gen_ai\\env\\lib\\site-packages (from jedi>=0.16->ipython>=7.23.1->ipykernel->-r requirements.txt (line 2)) (0.8.3)\n",
      "Requirement already satisfied: wcwidth in c:\\users\\salil\\python_n_r\\ineuron\\gen_ai\\env\\lib\\site-packages (from prompt-toolkit<3.1.0,>=3.0.41->ipython>=7.23.1->ipykernel->-r requirements.txt (line 2)) (0.2.13)\n",
      "Requirement already satisfied: six>=1.5 in c:\\users\\salil\\python_n_r\\ineuron\\gen_ai\\env\\lib\\site-packages (from python-dateutil>=2.8.2->jupyter-client>=6.1.12->ipykernel->-r requirements.txt (line 2)) (1.16.0)\n",
      "Requirement already satisfied: mypy-extensions>=0.3.0 in c:\\users\\salil\\python_n_r\\ineuron\\gen_ai\\env\\lib\\site-packages (from typing-inspect<1,>=0.4.0->dataclasses-json<0.7,>=0.5.7->langchain->-r requirements.txt (line 1)) (1.0.0)\n",
      "Requirement already satisfied: executing>=1.2.0 in c:\\users\\salil\\python_n_r\\ineuron\\gen_ai\\env\\lib\\site-packages (from stack-data->ipython>=7.23.1->ipykernel->-r requirements.txt (line 2)) (2.0.1)\n",
      "Requirement already satisfied: asttokens>=2.1.0 in c:\\users\\salil\\python_n_r\\ineuron\\gen_ai\\env\\lib\\site-packages (from stack-data->ipython>=7.23.1->ipykernel->-r requirements.txt (line 2)) (2.4.1)\n",
      "Requirement already satisfied: pure-eval in c:\\users\\salil\\python_n_r\\ineuron\\gen_ai\\env\\lib\\site-packages (from stack-data->ipython>=7.23.1->ipykernel->-r requirements.txt (line 2)) (0.2.2)\n",
      "Installing collected packages: fsspec, filelock, huggingface_hub\n",
      "Successfully installed filelock-3.13.1 fsspec-2024.2.0 huggingface_hub-0.21.3\n"
     ]
    },
    {
     "name": "stderr",
     "output_type": "stream",
     "text": [
      "\n",
      "[notice] A new release of pip is available: 23.0.1 -> 24.0\n",
      "[notice] To update, run: python.exe -m pip install --upgrade pip\n"
     ]
    }
   ],
   "source": [
    "!pip install -r requirements.txt"
   ]
  },
  {
   "cell_type": "code",
   "execution_count": 34,
   "metadata": {},
   "outputs": [],
   "source": [
    "import langchain\n",
    "from langchain.llms import openai, OpenAI\n",
    "from dotenv import load_dotenv\n",
    "\n",
    "load_dotenv()\n",
    "\n",
    "import os\n",
    "GOOGLE_API_KEY = os.environ.get('GOOGLE_API_KEY')\n",
    "OPENAI_API_KEY = os.environ.get('OPENAI_API_KEY')\n",
    "HUGGINGFACE_TOKEN = os.environ.get('HUGGINGFACE_TOKEN')"
   ]
  },
  {
   "cell_type": "code",
   "execution_count": 3,
   "metadata": {},
   "outputs": [],
   "source": [
    "# hugging face hub\n",
    "# open ai api using langchain\n",
    "# gemini api using langchain"
   ]
  },
  {
   "cell_type": "code",
   "execution_count": 35,
   "metadata": {},
   "outputs": [
    {
     "name": "stderr",
     "output_type": "stream",
     "text": [
      "c:\\Users\\SALIL\\Python_n_R\\Ineuron\\gen_ai\\env\\lib\\site-packages\\langchain_core\\_api\\deprecation.py:117: LangChainDeprecationWarning: The class `langchain_community.llms.openai.OpenAI` was deprecated in langchain-community 0.0.10 and will be removed in 0.2.0. An updated version of the class exists in the langchain-openai package and should be used instead. To use it run `pip install -U langchain-openai` and import as `from langchain_openai import OpenAI`.\n",
      "  warn_deprecated(\n"
     ]
    }
   ],
   "source": [
    "GOOGLE_API_KEY, OPENAI_API_KEY, HUGGINGFACE_TOKEN\n",
    "\n",
    "llm = OpenAI()"
   ]
  },
  {
   "cell_type": "code",
   "execution_count": 36,
   "metadata": {},
   "outputs": [
    {
     "name": "stderr",
     "output_type": "stream",
     "text": [
      "c:\\Users\\SALIL\\Python_n_R\\Ineuron\\gen_ai\\env\\lib\\site-packages\\langchain_core\\_api\\deprecation.py:117: LangChainDeprecationWarning: The function `predict` was deprecated in LangChain 0.1.7 and will be removed in 0.2.0. Use invoke instead.\n",
      "  warn_deprecated(\n"
     ]
    },
    {
     "name": "stdout",
     "output_type": "stream",
     "text": [
      "\n",
      "\n",
      "China, officially known as the People's Republic of China, is a country located in East Asia. It is the world's most populous country with over 1.4 billion people and the fourth largest by land area. China has a rich history dating back thousands of years and has made significant contributions to the world in terms of culture, technology, and economy.\n",
      "\n",
      "One of the earliest dynasties in China was the Xia Dynasty, which ruled from 2100 BC to 1600 BC. This was followed by the Shang and Zhou dynasties, which saw the rise of a centralized government and the development of Chinese characters. The Qin Dynasty, which ruled from 221 BC to 206 BC, is known for unifying China and building the Great Wall.\n",
      "\n",
      "In the 13th century, the Mongol Empire conquered China and established the Yuan Dynasty. However, in 1368, the Ming Dynasty overthrew the Mongols and ruled for almost 300 years. The Qing Dynasty, which ruled from 1644 to 1911, was the last imperial dynasty in China.\n",
      "\n",
      "In 1911, the Qing Dynasty was overthrown in a revolution led by Sun Yat-sen, and the Republic of China was established. However, in 194\n"
     ]
    }
   ],
   "source": [
    "text = \"Can you tell me about china?\"\n",
    "result = llm.predict(text)\n",
    "\n",
    "print(result)"
   ]
  },
  {
   "cell_type": "code",
   "execution_count": 39,
   "metadata": {},
   "outputs": [],
   "source": [
    "import huggingface_hub\n",
    "from langchain import HuggingFaceHub"
   ]
  },
  {
   "cell_type": "code",
   "execution_count": 43,
   "metadata": {},
   "outputs": [],
   "source": [
    "model_hugging = HuggingFaceHub(repo_id=\"google/flan-t5-large\", huggingfacehub_api_token=HUGGINGFACE_TOKEN)"
   ]
  },
  {
   "cell_type": "code",
   "execution_count": 46,
   "metadata": {},
   "outputs": [],
   "source": [
    "model_llama = HuggingFaceHub(repo_id=\"meta-llama/Llama-2-7b-chat-hf\", huggingfacehub_api_token=HUGGINGFACE_TOKEN)"
   ]
  },
  {
   "cell_type": "code",
   "execution_count": 47,
   "metadata": {},
   "outputs": [],
   "source": [
    "model_mistral = HuggingFaceHub(repo_id=\"mistralai/Mistral-7B-Instruct-v0.2\", huggingfacehub_api_token=HUGGINGFACE_TOKEN)"
   ]
  },
  {
   "cell_type": "code",
   "execution_count": 51,
   "metadata": {},
   "outputs": [
    {
     "name": "stdout",
     "output_type": "stream",
     "text": [
      "My name is salil?, please translate in hindi.\n",
      "\n",
      "Salil का नाम है। (Salil ka naam hai.)\n",
      "\n",
      "This is a simple translation of the name Salil from English to Hindi. The Hindi script for Salil is सलिल. If you have any other name or phrase you'd like translated, feel free to ask!\n"
     ]
    }
   ],
   "source": [
    "print(model_mistral(\"My name is salil?, please translate in hindi\"))"
   ]
  },
  {
   "cell_type": "code",
   "execution_count": 52,
   "metadata": {},
   "outputs": [
    {
     "name": "stdout",
     "output_type": "stream",
     "text": [
      "What's the capital city in India?, please translate in hindi.\n",
      "\n",
      "The capital city of India is New Delhi. In Hindi, it is written as नय दिल्ली (Nay Dillī).\n"
     ]
    }
   ],
   "source": [
    "print(model_mistral(\"What's the capital city in India?, please translate in hindi\"))"
   ]
  },
  {
   "cell_type": "code",
   "execution_count": 54,
   "metadata": {},
   "outputs": [],
   "source": [
    "from langchain_google_genai import ChatGoogleGenerativeAI"
   ]
  },
  {
   "cell_type": "code",
   "execution_count": 58,
   "metadata": {},
   "outputs": [
    {
     "name": "stderr",
     "output_type": "stream",
     "text": [
      "c:\\Users\\SALIL\\Python_n_R\\Ineuron\\gen_ai\\env\\lib\\site-packages\\langchain_core\\_api\\deprecation.py:117: LangChainDeprecationWarning: The function `predict` was deprecated in LangChain 0.1.7 and will be removed in 0.2.0. Use invoke instead.\n",
      "  warn_deprecated(\n"
     ]
    },
    {
     "data": {
      "text/plain": [
       "'Washington, D.C.'"
      ]
     },
     "execution_count": 58,
     "metadata": {},
     "output_type": "execute_result"
    }
   ],
   "source": [
    "llm4 = ChatGoogleGenerativeAI(google_api_key=GOOGLE_API_KEY, model=\"gemini-pro\",)\n",
    "\n",
    "llm4.predict(\"What's the capital of USA?\")"
   ]
  },
  {
   "cell_type": "code",
   "execution_count": 59,
   "metadata": {},
   "outputs": [
    {
     "data": {
      "text/plain": [
       "'Washington, D.C.'"
      ]
     },
     "execution_count": 59,
     "metadata": {},
     "output_type": "execute_result"
    }
   ],
   "source": [
    "llm4.invoke(\"What's the capital of USA?\").content"
   ]
  },
  {
   "cell_type": "code",
   "execution_count": null,
   "metadata": {},
   "outputs": [],
   "source": []
  }
 ],
 "metadata": {
  "kernelspec": {
   "display_name": "base",
   "language": "python",
   "name": "python3"
  },
  "language_info": {
   "codemirror_mode": {
    "name": "ipython",
    "version": 3
   },
   "file_extension": ".py",
   "mimetype": "text/x-python",
   "name": "python",
   "nbconvert_exporter": "python",
   "pygments_lexer": "ipython3",
   "version": "3.10.11"
  }
 },
 "nbformat": 4,
 "nbformat_minor": 2
}
